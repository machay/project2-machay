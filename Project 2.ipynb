{
 "cells": [
  {
   "cell_type": "code",
   "execution_count": 3,
   "metadata": {
    "collapsed": true
   },
   "outputs": [],
   "source": [
    "#Ylonka Machado's Notebook for Project 2: Airbnb Bookings"
   ]
  },
  {
   "cell_type": "code",
   "execution_count": 6,
   "metadata": {},
   "outputs": [],
   "source": [
    "#Importing libraries\n",
    "import numpy as np\n",
    "import pandas as pd\n",
    "\n",
    "#Reading Data\n",
    "train_df = pd.read_csv(\"train_users_2.csv\")\n",
    "\n",
    "#Removing rows with no bookings\n",
    "train_df = train_df[train_df.country_destination != 'NDF']\n",
    "\n",
    "#Removing timestamp_first_active column because of bad date formatting and signup_flow because there is no \n",
    "#explanation of what value means\n",
    "train_df_2 = train_df.drop(['timestamp_first_active','signup_flow'], axis=1)"
   ]
  },
  {
   "cell_type": "code",
   "execution_count": 7,
   "metadata": {
    "collapsed": true
   },
   "outputs": [],
   "source": [
    "#Cleaning Data\n",
    "\n",
    "#Removing rows with null age values, meaning those with ages over 100 or below 18\n",
    "train_df_2 = train_df_2[train_df_2.age < 100] \n",
    "train_df_2 = train_df_2[train_df_2.age >= 18]\n",
    "\n",
    "#Removing rows with \"-unknown-\" gender values\n",
    "train_df_2 = train_df_2[train_df_2.gender != '-unknown-']\n",
    "\n",
    "#Removing rows with \"-unknown-\" first browsers\n",
    "train_df_2 = train_df_2[train_df_2.first_browser != '-unknown-']\n",
    "\n",
    "#After all this cleaning, I am down to 72,097 rows! \n",
    "\n",
    "#Now for one hot encoding\n",
    "ohe_feats = ['gender', 'signup_method', 'language', 'affiliate_channel', 'affiliate_provider', 'first_affiliate_tracked', 'signup_app', 'first_device_type', 'first_browser']\n",
    "for f in ohe_feats:\n",
    "    train_df_2_dummy = pd.get_dummies(train_df_2[f], prefix=f)\n",
    "    train_df_2 = train_df_2.drop([f], axis=1)\n",
    "    train_df_2 = pd.concat((train_df_2, train_df_2_dummy), axis=1)\n",
    "    "
   ]
  },
  {
   "cell_type": "code",
   "execution_count": 8,
   "metadata": {},
   "outputs": [
    {
     "name": "stderr",
     "output_type": "stream",
     "text": [
      "/usr/local/lib/python3.6/site-packages/scipy/linalg/basic.py:1018: RuntimeWarning: internal gelsd driver lwork query error, required iwork dimension not returned. This is likely the result of LAPACK bug 0038, fixed in LAPACK 3.2.2 (released July 21, 2010). Falling back to 'gelss' driver.\n",
      "  warnings.warn(mesg, RuntimeWarning)\n"
     ]
    },
    {
     "name": "stdout",
     "output_type": "stream",
     "text": [
      "0.00758449162512\n"
     ]
    }
   ],
   "source": [
    "#Analysis of Model Performance: Linear Regression\n",
    "from sklearn import linear_model\n",
    "from sklearn.preprocessing import LabelEncoder\n",
    "\n",
    "target = train_df_2['country_destination'].values\n",
    "le = LabelEncoder()\n",
    "target = le.fit_transform(target)\n",
    "\n",
    "X = train_df_2.drop(['id','date_account_created','date_first_booking','country_destination'], axis=1)\n",
    "#print(train_df_2.head())\n",
    "y = target\n",
    "\n",
    "lm = linear_model.LinearRegression()\n",
    "model = lm.fit(X,y)\n",
    "\n",
    "predictions = lm.predict(X)\n",
    "print(lm.score(X,y))\n",
    "#0.75% R^2 score :("
   ]
  },
  {
   "cell_type": "code",
   "execution_count": 9,
   "metadata": {},
   "outputs": [
    {
     "name": "stdout",
     "output_type": "stream",
     "text": [
      "age -0.00374642482163\n",
      "gender_FEMALE 1.22040970255e+12\n",
      "gender_MALE 1.22040970255e+12\n",
      "gender_OTHER 1.22040970255e+12\n",
      "signup_method_basic 139767014736.0\n",
      "signup_method_facebook 139767014736.0\n",
      "signup_method_google 139767014736.0\n",
      "language_ca 1134909133.65\n",
      "language_cs 1134909131.97\n",
      "language_da 1134909132.93\n",
      "language_de 1134909132.22\n",
      "language_el 1134909130.77\n",
      "language_en 1134909132.71\n",
      "language_es 1134909132.73\n",
      "language_fi 1134909132.94\n",
      "language_fr 1134909132.06\n",
      "language_hu 1134909133.98\n",
      "language_is 1134909134.06\n",
      "language_it 1134909132.36\n",
      "language_ja 1134909133.01\n",
      "language_ko 1134909133.07\n",
      "language_nl 1134909132.57\n",
      "language_no 1134909132.88\n",
      "language_pl 1134909131.83\n",
      "language_pt 1134909133.66\n",
      "language_ru 1134909132.56\n",
      "language_sv 1134909133.17\n",
      "language_th 1134909133.59\n",
      "language_tr 1134909133.22\n",
      "language_zh 1134909133.34\n",
      "affiliate_channel_api -46586011431.1\n",
      "affiliate_channel_content -46586011431.3\n",
      "affiliate_channel_direct -46586011431.1\n",
      "affiliate_channel_other -46586011430.8\n",
      "affiliate_channel_remarketing -46586011431.2\n",
      "affiliate_channel_sem-brand -46586011430.9\n",
      "affiliate_channel_sem-non-brand -46586011431.0\n",
      "affiliate_channel_seo -46586011430.9\n",
      "affiliate_provider_baidu 12625520263.9\n",
      "affiliate_provider_bing 12625520263.9\n",
      "affiliate_provider_craigslist 12625520264.0\n",
      "affiliate_provider_direct 12625520264.1\n",
      "affiliate_provider_email-marketing 12625520264.4\n",
      "affiliate_provider_facebook 12625520263.6\n",
      "affiliate_provider_facebook-open-graph 12625520263.5\n",
      "affiliate_provider_google 12625520263.9\n",
      "affiliate_provider_gsp 12625520264.7\n",
      "affiliate_provider_meetup 12625520264.1\n",
      "affiliate_provider_naver 12625520265.0\n",
      "affiliate_provider_other 12625520264.1\n",
      "affiliate_provider_padmapper 12625520264.3\n",
      "affiliate_provider_vast 12625520264.4\n",
      "affiliate_provider_yahoo 12625520263.8\n",
      "affiliate_provider_yandex 12625520264.8\n",
      "first_affiliate_tracked_linked -341089732.717\n",
      "first_affiliate_tracked_local ops -341089732.121\n",
      "first_affiliate_tracked_marketing -341089732.546\n",
      "first_affiliate_tracked_omg -341089732.751\n",
      "first_affiliate_tracked_product -341089732.649\n",
      "first_affiliate_tracked_tracked-other -341089732.727\n",
      "first_affiliate_tracked_untracked -341089732.801\n",
      "signup_app_Android -46218046790.9\n",
      "signup_app_Moweb -46218046790.9\n",
      "signup_app_Web -46218046791.2\n",
      "signup_app_iOS -46218046791.0\n",
      "first_device_type_Android Phone -8208432224.32\n",
      "first_device_type_Android Tablet -8208432224.41\n",
      "first_device_type_Desktop (Other) -8208432224.91\n",
      "first_device_type_Mac Desktop -8208432224.73\n",
      "first_device_type_Other/Unknown -8208432223.79\n",
      "first_device_type_SmartPhone (Other) -8208432225.03\n",
      "first_device_type_Windows Desktop -8208432224.64\n",
      "first_device_type_iPad -8208432224.69\n",
      "first_device_type_iPhone -8208432224.52\n",
      "first_browser_AOL Explorer -23877575646.9\n",
      "first_browser_Android Browser -23877575647.2\n",
      "first_browser_Apple Mail -23877575647.0\n",
      "first_browser_Avant Browser -23877575645.3\n",
      "first_browser_BlackBerry Browser -23877575646.5\n",
      "first_browser_Camino -23877575646.3\n",
      "first_browser_Chrome -23877575647.0\n",
      "first_browser_Chrome Mobile -23877575647.2\n",
      "first_browser_Chromium -23877575646.8\n",
      "first_browser_CoolNovo -23877575649.1\n",
      "first_browser_Firefox -23877575647.1\n",
      "first_browser_IE -23877575647.1\n",
      "first_browser_IE Mobile -23877575646.1\n",
      "first_browser_IceWeasel -23877575646.6\n",
      "first_browser_Iron -23877575647.2\n",
      "first_browser_Kindle Browser -23877575645.1\n",
      "first_browser_Maxthon -23877575646.7\n",
      "first_browser_Mobile Firefox -23877575647.2\n",
      "first_browser_Mobile Safari -23877575647.1\n",
      "first_browser_Mozilla -23877575646.2\n",
      "first_browser_NetNewsWire -23877575646.2\n",
      "first_browser_Opera -23877575646.8\n",
      "first_browser_Opera Mini -23877575646.1\n",
      "first_browser_Pale Moon -23877575646.3\n",
      "first_browser_RockMelt -23877575647.0\n",
      "first_browser_Safari -23877575647.1\n",
      "first_browser_SeaMonkey -23877575649.7\n",
      "first_browser_Silk -23877575646.6\n",
      "first_browser_SiteKiosk -23877575646.2\n",
      "first_browser_Sogou Explorer -23877575646.2\n",
      "first_browser_Stainless -23877575646.3\n",
      "first_browser_TenFourFox -23877575646.1\n",
      "first_browser_TheWorld Browser -23877575649.5\n",
      "first_browser_Yandex.Browser -23877575645.6\n"
     ]
    }
   ],
   "source": [
    "#Analyzing Features: Linear Regression\n",
    "features = list(X)\n",
    "\n",
    "#Seeing predictors and their respective coefficients\n",
    "for x in range(len(features)):\n",
    "    print(features[x],lm.coef_[x])"
   ]
  },
  {
   "cell_type": "code",
   "execution_count": 11,
   "metadata": {},
   "outputs": [
    {
     "name": "stderr",
     "output_type": "stream",
     "text": [
      "[Parallel(n_jobs=-1)]: Done  42 tasks      | elapsed:   16.9s\n",
      "[Parallel(n_jobs=-1)]: Done 192 tasks      | elapsed:  1.3min\n",
      "[Parallel(n_jobs=-1)]: Done 300 out of 300 | elapsed:  1.8min finished\n",
      "[Parallel(n_jobs=4)]: Done  42 tasks      | elapsed:    0.6s\n",
      "[Parallel(n_jobs=4)]: Done 192 tasks      | elapsed:    2.4s\n"
     ]
    },
    {
     "name": "stdout",
     "output_type": "stream",
     "text": [
      "0.443103080178\n"
     ]
    },
    {
     "name": "stderr",
     "output_type": "stream",
     "text": [
      "[Parallel(n_jobs=4)]: Done 300 out of 300 | elapsed:    3.8s finished\n"
     ]
    }
   ],
   "source": [
    "#Analysis of Model Performance: RandomForest\n",
    "from sklearn.ensemble import RandomForestClassifier\n",
    "\n",
    "rf = RandomForestClassifier(n_estimators=150,verbose=1,n_jobs=-1,oob_score=True,max_features=None,class_weight='balanced')\n",
    "rf.fit(X,y)\n",
    "\n",
    "accuracy = rf.score(X,y)\n",
    "print(accuracy)\n",
    "#44% accuracy with 150\n",
    "#44% accuracy with 300"
   ]
  },
  {
   "cell_type": "code",
   "execution_count": 19,
   "metadata": {},
   "outputs": [
    {
     "data": {
      "image/png": "[encoded data removed]",
      "text/plain": [
       "<matplotlib.figure.Figure at 0x11a07c470>"
      ]
     },
     "metadata": {},
     "output_type": "display_data"
    },
    {
     "name": "stdout",
     "output_type": "stream",
     "text": [
      "age : 0\n",
      "first_affiliate_tracked_untracked : 60\n",
      "first_affiliate_tracked_linked : 54\n",
      "first_browser_Chrome : 80\n",
      "signup_method_basic : 4\n",
      "first_browser_Firefox : 84\n",
      "signup_method_facebook : 5\n",
      "first_affiliate_tracked_omg : 57\n",
      "first_device_type_Windows Desktop : 71\n",
      "first_device_type_Mac Desktop : 68\n"
     ]
    }
   ],
   "source": [
    "#Analyzing Features: RandomForest\n",
    "\n",
    "#Listing all features and their importance\n",
    "importances = rf.feature_importances_\n",
    "\n",
    "for x in range(0,len(importances)):\n",
    "    print(features[x],\":\",importances[x])\n",
    "\n",
    "import matplotlib.pyplot as plt\n",
    "\n",
    "std = np.std([tree.feature_importances_ for tree in rf.estimators_],\n",
    "             axis=0)\n",
    "indices = np.argsort(importances)[::-1]\n",
    "top_k = 10\n",
    "new_indices = indices[:top_k]\n",
    "\n",
    "# Plot the feature importances of the forest\n",
    "plt.figure()\n",
    "plt.title(\"Feature importances\")\n",
    "plt.bar(range(top_k), importances[new_indices],\n",
    "       color=\"r\", yerr=std[new_indices], align=\"center\")\n",
    "plt.xticks(range(top_k), new_indices)\n",
    "plt.xlim([-1, top_k])\n",
    "plt.show()\n",
    "\n",
    "features = list(X)\n",
    "val_indices = [\"0\",\"60\",\"54\",\"80\",\"4\",\"84\",\"5\",\"57\",\"71\",\"68\"]\n",
    "top_10_features = [features[0],features[60],features[54],features[80],features[4],features[84],features[5],features[57],features[71],features[68]]\n",
    "for x in range(len(top_10_features)):\n",
    "    print(top_10_features[x],\":\",val_indices[x])"
   ]
  },
  {
   "cell_type": "code",
   "execution_count": 22,
   "metadata": {},
   "outputs": [
    {
     "name": "stdout",
     "output_type": "stream",
     "text": [
      "0.659295418456\n"
     ]
    }
   ],
   "source": [
    "#Analysis of Model Performance: kNN\n",
    "from sklearn.model_selection import train_test_split\n",
    "from sklearn.neighbors import KNeighborsClassifier\n",
    "from sklearn.metrics import accuracy_score\n",
    "\n",
    "X_train, X_test, y_train, y_test = train_test_split(X,y,test_size=0.33,random_state=42)\n",
    "#knn3 = KNeighborsClassifier(n_neighbors=3)\n",
    "knn = KNeighborsClassifier(n_neighbors=5)\n",
    "knn.fit(X_train,y_train)\n",
    "pred = knn.predict(X_test)\n",
    "print(accuracy_score(y_test,pred))\n",
    "\n",
    "#57% accuracy rate with 3 neighbors\n",
    "#66% accuracy rate with 5 neigbors"
   ]
  },
  {
   "cell_type": "code",
   "execution_count": 46,
   "metadata": {},
   "outputs": [
    {
     "name": "stdout",
     "output_type": "stream",
     "text": [
      "[[0.31233968499577325]]\n"
     ]
    },
    {
     "data": {
      "text/plain": [
       "'\\n#Determining optimal number of neighbors\\noptimal_k = myList[MSE.index(min(MSE))]\\nprint(\"The optimal number of neighbors is %d\" % optimal_k)\\n\\n# plot misclassification error vs k\\nplt.plot(myList, MSE)\\nplt.xlabel(\\'Number of Neighbors K\\')\\nplt.ylabel(\\'Misclassification Error\\')\\nplt.show()\\n'"
      ]
     },
     "execution_count": 46,
     "metadata": {},
     "output_type": "execute_result"
    }
   ],
   "source": [
    "#Tuning Parameters: kNN\n",
    "from sklearn.model_selection import cross_val_score\n",
    "import matplotlib.pyplot as plt\n",
    "\n",
    "#List of Odds for kNN\n",
    "myList = []\n",
    "for x in range(6,16):\n",
    "    if x % 2 != 0:\n",
    "        myList.append(x)\n",
    "\n",
    "#List of Cross Validation Scores\n",
    "cv_scores = []\n",
    "mse_list = []\n",
    "\n",
    "#Doing Cross Validation on K = 7\n",
    "knn7 = KNeighborsClassifier(n_neighbors=7)\n",
    "score7 = cross_val_score(knn7, X_train, y_train, cv=10, scoring='accuracy')\n",
    "cv_scores.append(score7.mean())\n",
    "MSE7 = [1 - score7.mean()]\n",
    "mse_list.append(MSE7)\n",
    "print(mse_list)\n",
    "#MSE was [[0.31233968499577325]] for neighbors = 7"
   ]
  },
  {
   "cell_type": "code",
   "execution_count": 47,
   "metadata": {},
   "outputs": [
    {
     "name": "stdout",
     "output_type": "stream",
     "text": [
      "[[0.31233968499577325], [0.30234617304012001]]\n"
     ]
    }
   ],
   "source": [
    "#Doing Cross Validation on K = 9\n",
    "knn9 = KNeighborsClassifier(n_neighbors=9)\n",
    "score9 = cross_val_score(knn9, X_train, y_train, cv=10, scoring='accuracy')\n",
    "cv_scores.append(score9.mean())\n",
    "MSE9 = [1 - score9.mean()]\n",
    "mse_list.append(MSE9)\n",
    "print(mse_list)\n",
    "#MSE for k = 9 was [0.30234617304012001]]"
   ]
  },
  {
   "cell_type": "code",
   "execution_count": 48,
   "metadata": {},
   "outputs": [
    {
     "name": "stdout",
     "output_type": "stream",
     "text": [
      "[[0.31233968499577325], [0.30234617304012001], [0.29846435262588089]]\n"
     ]
    }
   ],
   "source": [
    "#Doing Cross Validation on K = 11\n",
    "knn11 = KNeighborsClassifier(n_neighbors=11)\n",
    "score11 = cross_val_score(knn11, X_train, y_train, cv=10, scoring='accuracy')\n",
    "cv_scores.append(score11.mean())\n",
    "MSE11 = [1 - score11.mean()]\n",
    "mse_list.append(MSE11)\n",
    "print(mse_list)\n",
    "#MSE for k = 11 was [0.29846435262588089]"
   ]
  },
  {
   "cell_type": "code",
   "execution_count": 49,
   "metadata": {},
   "outputs": [
    {
     "name": "stdout",
     "output_type": "stream",
     "text": [
      "[[0.31233968499577325], [0.30234617304012001], [0.29846435262588089], [0.29649491406103801]]\n"
     ]
    }
   ],
   "source": [
    "#Doing Cross Validation on K = 13\n",
    "knn13 = KNeighborsClassifier(n_neighbors=13)\n",
    "score13 = cross_val_score(knn13, X_train, y_train, cv=10, scoring='accuracy')\n",
    "cv_scores.append(score13.mean())\n",
    "MSE13 = [1 - score13.mean()]\n",
    "mse_list.append(MSE13)\n",
    "print(mse_list)\n",
    "#MSE for k = 11 was 0.29649491406103801"
   ]
  },
  {
   "cell_type": "code",
   "execution_count": 50,
   "metadata": {},
   "outputs": [
    {
     "name": "stdout",
     "output_type": "stream",
     "text": [
      "[[0.31233968499577325], [0.30234617304012001], [0.29846435262588089], [0.29649491406103801], [0.29571253174873857]]\n"
     ]
    }
   ],
   "source": [
    "#Doing Cross Validation on K = 15\n",
    "knn15 = KNeighborsClassifier(n_neighbors=15)\n",
    "score15 = cross_val_score(knn15, X_train, y_train, cv=10, scoring='accuracy')\n",
    "cv_scores.append(score15.mean())\n",
    "MSE15 = [1 - score15.mean()]\n",
    "mse_list.append(MSE15)\n",
    "print(mse_list)\n",
    "#MSE for k = 15 was [0.29571253174873857]"
   ]
  },
  {
   "cell_type": "code",
   "execution_count": 70,
   "metadata": {},
   "outputs": [
    {
     "data": {
      "image/png": "[encoded data removed]",
      "text/plain": [
       "<matplotlib.figure.Figure at 0x1193131d0>"
      ]
     },
     "metadata": {},
     "output_type": "display_data"
    }
   ],
   "source": [
    "#Determining optimal number of neighbors\n",
    "#optimal_k = myList[MSE.index(min(MSE))]\n",
    "optimal_k = min(mse_list)\n",
    "\n",
    "# plot misclassification error vs k\n",
    "plt.plot(myList, mse_list)\n",
    "plt.xlabel('Number of Neighbors K')\n",
    "plt.ylabel('Misclassification Error')\n",
    "plt.show()"
   ]
  },
  {
   "cell_type": "code",
   "execution_count": 56,
   "metadata": {},
   "outputs": [
    {
     "name": "stdout",
     "output_type": "stream",
     "text": [
      "0.70240545786\n"
     ]
    }
   ],
   "source": [
    "#Running model again with optimal number of neighbors\n",
    "knn_2 = KNeighborsClassifier(n_neighbors=15)\n",
    "knn_2.fit(X_train,y_train)\n",
    "pred_2 = knn_2.predict(X_test)\n",
    "print(accuracy_score(y_test,pred_2))"
   ]
  }
 ],
 "metadata": {
  "kernelspec": {
   "display_name": "Python 3",
   "language": "python",
   "name": "python3"
  },
  "language_info": {
   "codemirror_mode": {
    "name": "ipython",
    "version": 3
   },
   "file_extension": ".py",
   "mimetype": "text/x-python",
   "name": "python",
   "nbconvert_exporter": "python",
   "pygments_lexer": "ipython3",
   "version": "3.6.2"
  }
 },
 "nbformat": 4,
 "nbformat_minor": 2
}
